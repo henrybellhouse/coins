{
 "cells": [
  {
   "cell_type": "code",
   "execution_count": 1,
   "metadata": {},
   "outputs": [],
   "source": [
    "def fair(int):\n",
    "    first, second = 0,0\n",
    "    while first == second:\n",
    "        first, second = biased(), biased()\n",
    "    return first"
   ]
  },
  {
   "cell_type": "code",
   "execution_count": 2,
   "metadata": {},
   "outputs": [],
   "source": [
    "import random\n",
    "\n",
    "def biased():\n",
    "   if random.random() < 0.2:\n",
    "      return 1\n",
    "   else:\n",
    "      return 0"
   ]
  },
  {
   "cell_type": "code",
   "execution_count": 3,
   "metadata": {},
   "outputs": [
    {
     "data": {
      "text/plain": [
       "2055"
      ]
     },
     "execution_count": 3,
     "metadata": {},
     "output_type": "execute_result"
    }
   ],
   "source": [
    "number = 10000\n",
    "\n",
    "sum(biased() for i in range(number))"
   ]
  },
  {
   "cell_type": "code",
   "execution_count": 4,
   "metadata": {},
   "outputs": [
    {
     "name": "stdout",
     "output_type": "stream",
     "text": [
      "5035\n"
     ]
    }
   ],
   "source": [
    "simulation = sum(fair(biased()) for i in range(number))\n",
    "print(simulation)"
   ]
  },
  {
   "cell_type": "code",
   "execution_count": 5,
   "metadata": {},
   "outputs": [],
   "source": [
    "import numpy as np\n",
    "from scipy.stats import binom\n",
    "\n",
    "def test(simulation, alpha=0.05):\n",
    "    expected = 0.5\n",
    "\n",
    "    # Count the number of heads\n",
    "    heads = sum(fair(biased()) for i in range(number))\n",
    "\n",
    "    # Calculate the p-value using the chi-square test statistic\n",
    "    p_value = 1 - binom.cdf(heads, number, expected)\n",
    "\n",
    "    # Compare the p-value with the significance level\n",
    "    if p_value < alpha:\n",
    "        print(\"Reject the null hypothesis. The coin is biased.\")\n",
    "    else:\n",
    "        print(\"Fail to reject the null hypothesis. The coin is fair.\")"
   ]
  },
  {
   "cell_type": "code",
   "execution_count": 6,
   "metadata": {},
   "outputs": [
    {
     "name": "stdout",
     "output_type": "stream",
     "text": [
      "Fail to reject the null hypothesis. The coin is fair.\n"
     ]
    }
   ],
   "source": [
    "test(simulation, alpha=0.05)"
   ]
  }
 ],
 "metadata": {
  "kernelspec": {
   "display_name": "Python 3 (ipykernel)",
   "language": "python",
   "name": "python3"
  },
  "language_info": {
   "codemirror_mode": {
    "name": "ipython",
    "version": 3
   },
   "file_extension": ".py",
   "mimetype": "text/x-python",
   "name": "python",
   "nbconvert_exporter": "python",
   "pygments_lexer": "ipython3",
   "version": "3.8.2"
  }
 },
 "nbformat": 4,
 "nbformat_minor": 2
}
